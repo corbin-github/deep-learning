{
 "cells": [
  {
   "cell_type": "markdown",
   "metadata": {},
   "source": [
    "# Sentiment Analysis with an RNN\n",
    "\n",
    "In this notebook, you'll implement a recurrent neural network that performs sentiment analysis. Using an RNN rather than a feedfoward network is more accurate since we can include information about the *sequence* of words. Here we'll use a dataset of movie reviews, accompanied by labels.\n",
    "\n",
    "The architecture for this network is shown below.\n",
    "\n",
    "<img src=\"assets/network_diagram.png\" width=400px>\n",
    "\n",
    "Here, we'll pass in words to an embedding layer. We need an embedding layer because we have tens of thousands of words, so we'll need a more efficient representation for our input data than one-hot encoded vectors. You should have seen this before from the word2vec lesson. You can actually train up an embedding with word2vec and use it here. But it's good enough to just have an embedding layer and let the network learn the embedding table on it's own.\n",
    "\n",
    "From the embedding layer, the new representations will be passed to LSTM cells. These will add recurrent connections to the network so we can include information about the sequence of words in the data. Finally, the LSTM cells will go to a sigmoid output layer here. We're using the sigmoid because we're trying to predict if this text has positive or negative sentiment. The output layer will just be a single unit then, with a sigmoid activation function.\n",
    "\n",
    "We don't care about the sigmoid outputs except for the very last one, we can ignore the rest. We'll calculate the cost from the output of the last step and the training label."
   ]
  },
  {
   "cell_type": "code",
   "execution_count": 1,
   "metadata": {},
   "outputs": [],
   "source": [
    "import numpy as np\n",
    "import tensorflow as tf"
   ]
  },
  {
   "cell_type": "code",
   "execution_count": 2,
   "metadata": {},
   "outputs": [],
   "source": [
    "with open('../sentiment-network/reviews.txt', 'r') as f:\n",
    "    reviews = f.read()\n",
    "with open('../sentiment-network/labels.txt', 'r') as f:\n",
    "    labels = f.read()"
   ]
  },
  {
   "cell_type": "code",
   "execution_count": 3,
   "metadata": {},
   "outputs": [
    {
     "data": {
      "text/plain": [
       "'bromwell high is a cartoon comedy . it ran at the same time as some other programs about school life  such as  teachers  . my   years in the teaching profession lead me to believe that bromwell high  s satire is much closer to reality than is  teachers  . the scramble to survive financially  the insightful students who can see right through their pathetic teachers  pomp  the pettiness of the whole situation  all remind me of the schools i knew and their students . when i saw the episode in which a student repeatedly tried to burn down the school  i immediately recalled . . . . . . . . . at . . . . . . . . . . high . a classic line inspector i  m here to sack one of your teachers . student welcome to bromwell high . i expect that many adults of my age think that bromwell high is far fetched . what a pity that it isn  t   \\nstory of a man who has unnatural feelings for a pig . starts out with a opening scene that is a terrific example of absurd comedy . a formal orchestra audience is turned into an insane  violent mob by the crazy chantings of it  s singers . unfortunately it stays absurd the whole time with no general narrative eventually making it just too off putting . even those from the era should be turned off . the cryptic dialogue would make shakespeare seem easy to a third grader . on a technical level it  s better than you might think with some good cinematography by future great vilmos zsigmond . future stars sally kirkland and frederic forrest can be seen briefly .  \\nhomelessness  or houselessness as george carlin stated  has been an issue for years but never a plan to help those on the street that were once considered human who did everything from going to school  work  or vote for the matter . most people think of the homeless as just a lost cause while worrying about things such as racism  the war on iraq  pressuring kids to succeed  technology  the elections  inflation  or worrying if they  ll be next to end up on the streets .  br    br   but what if y'"
      ]
     },
     "execution_count": 3,
     "metadata": {},
     "output_type": "execute_result"
    }
   ],
   "source": [
    "reviews[:2000]"
   ]
  },
  {
   "cell_type": "markdown",
   "metadata": {},
   "source": [
    "## Data preprocessing\n",
    "\n",
    "The first step when building a neural network model is getting your data into the proper form to feed into the network. Since we're using embedding layers, we'll need to encode each word with an integer. We'll also want to clean it up a bit.\n",
    "\n",
    "You can see an example of the reviews data above. We'll want to get rid of those periods. Also, you might notice that the reviews are delimited with newlines `\\n`. To deal with those, I'm going to split the text into each review using `\\n` as the delimiter. Then I can combined all the reviews back together into one big string.\n",
    "\n",
    "First, let's remove all punctuation. Then get all the text without the newlines and split it into individual words."
   ]
  },
  {
   "cell_type": "code",
   "execution_count": 4,
   "metadata": {},
   "outputs": [],
   "source": [
    "from string import punctuation\n",
    "all_text = ''.join([c for c in reviews if c not in punctuation])\n",
    "reviews = all_text.split('\\n')\n",
    "\n",
    "all_text = ' '.join(reviews)\n",
    "words = all_text.split()"
   ]
  },
  {
   "cell_type": "code",
   "execution_count": 5,
   "metadata": {},
   "outputs": [
    {
     "data": {
      "text/plain": [
       "'bromwell high is a cartoon comedy  it ran at the same time as some other programs about school life  such as  teachers   my   years in the teaching profession lead me to believe that bromwell high  s satire is much closer to reality than is  teachers   the scramble to survive financially  the insightful students who can see right through their pathetic teachers  pomp  the pettiness of the whole situation  all remind me of the schools i knew and their students  when i saw the episode in which a student repeatedly tried to burn down the school  i immediately recalled          at           high  a classic line inspector i  m here to sack one of your teachers  student welcome to bromwell high  i expect that many adults of my age think that bromwell high is far fetched  what a pity that it isn  t    story of a man who has unnatural feelings for a pig  starts out with a opening scene that is a terrific example of absurd comedy  a formal orchestra audience is turned into an insane  violent mob by the crazy chantings of it  s singers  unfortunately it stays absurd the whole time with no general narrative eventually making it just too off putting  even those from the era should be turned off  the cryptic dialogue would make shakespeare seem easy to a third grader  on a technical level it  s better than you might think with some good cinematography by future great vilmos zsigmond  future stars sally kirkland and frederic forrest can be seen briefly    homelessness  or houselessness as george carlin stated  has been an issue for years but never a plan to help those on the street that were once considered human who did everything from going to school  work  or vote for the matter  most people think of the homeless as just a lost cause while worrying about things such as racism  the war on iraq  pressuring kids to succeed  technology  the elections  inflation  or worrying if they  ll be next to end up on the streets   br    br   but what if you were given a bet to live on the st'"
      ]
     },
     "execution_count": 5,
     "metadata": {},
     "output_type": "execute_result"
    }
   ],
   "source": [
    "all_text[:2000]"
   ]
  },
  {
   "cell_type": "code",
   "execution_count": 6,
   "metadata": {},
   "outputs": [
    {
     "data": {
      "text/plain": [
       "['bromwell',\n",
       " 'high',\n",
       " 'is',\n",
       " 'a',\n",
       " 'cartoon',\n",
       " 'comedy',\n",
       " 'it',\n",
       " 'ran',\n",
       " 'at',\n",
       " 'the',\n",
       " 'same',\n",
       " 'time',\n",
       " 'as',\n",
       " 'some',\n",
       " 'other',\n",
       " 'programs',\n",
       " 'about',\n",
       " 'school',\n",
       " 'life',\n",
       " 'such',\n",
       " 'as',\n",
       " 'teachers',\n",
       " 'my',\n",
       " 'years',\n",
       " 'in',\n",
       " 'the',\n",
       " 'teaching',\n",
       " 'profession',\n",
       " 'lead',\n",
       " 'me',\n",
       " 'to',\n",
       " 'believe',\n",
       " 'that',\n",
       " 'bromwell',\n",
       " 'high',\n",
       " 's',\n",
       " 'satire',\n",
       " 'is',\n",
       " 'much',\n",
       " 'closer',\n",
       " 'to',\n",
       " 'reality',\n",
       " 'than',\n",
       " 'is',\n",
       " 'teachers',\n",
       " 'the',\n",
       " 'scramble',\n",
       " 'to',\n",
       " 'survive',\n",
       " 'financially',\n",
       " 'the',\n",
       " 'insightful',\n",
       " 'students',\n",
       " 'who',\n",
       " 'can',\n",
       " 'see',\n",
       " 'right',\n",
       " 'through',\n",
       " 'their',\n",
       " 'pathetic',\n",
       " 'teachers',\n",
       " 'pomp',\n",
       " 'the',\n",
       " 'pettiness',\n",
       " 'of',\n",
       " 'the',\n",
       " 'whole',\n",
       " 'situation',\n",
       " 'all',\n",
       " 'remind',\n",
       " 'me',\n",
       " 'of',\n",
       " 'the',\n",
       " 'schools',\n",
       " 'i',\n",
       " 'knew',\n",
       " 'and',\n",
       " 'their',\n",
       " 'students',\n",
       " 'when',\n",
       " 'i',\n",
       " 'saw',\n",
       " 'the',\n",
       " 'episode',\n",
       " 'in',\n",
       " 'which',\n",
       " 'a',\n",
       " 'student',\n",
       " 'repeatedly',\n",
       " 'tried',\n",
       " 'to',\n",
       " 'burn',\n",
       " 'down',\n",
       " 'the',\n",
       " 'school',\n",
       " 'i',\n",
       " 'immediately',\n",
       " 'recalled',\n",
       " 'at',\n",
       " 'high']"
      ]
     },
     "execution_count": 6,
     "metadata": {},
     "output_type": "execute_result"
    }
   ],
   "source": [
    "words[:100]"
   ]
  },
  {
   "cell_type": "markdown",
   "metadata": {},
   "source": [
    "### Encoding the words\n",
    "\n",
    "The embedding lookup requires that we pass in integers to our network. The easiest way to do this is to create dictionaries that map the words in the vocabulary to integers. Then we can convert each of our reviews into integers so they can be passed into the network.\n",
    "\n",
    "> **Exercise:** Now you're going to encode the words with integers. Build a dictionary that maps words to integers. Later we're going to pad our input vectors with zeros, so make sure the integers **start at 1, not 0**.\n",
    "> Also, convert the reviews to integers and store the reviews in a new list called `reviews_ints`. "
   ]
  },
  {
   "cell_type": "code",
   "execution_count": 7,
   "metadata": {},
   "outputs": [],
   "source": [
    "unique_words = list(set(words))"
   ]
  },
  {
   "cell_type": "code",
   "execution_count": 8,
   "metadata": {},
   "outputs": [
    {
     "data": {
      "text/plain": [
       "74072"
      ]
     },
     "execution_count": 8,
     "metadata": {},
     "output_type": "execute_result"
    }
   ],
   "source": [
    "len(unique_words)"
   ]
  },
  {
   "cell_type": "code",
   "execution_count": 9,
   "metadata": {},
   "outputs": [],
   "source": [
    "def get_review_ints(reviews, vocab_to_int):\n",
    "    review_ints = []\n",
    "    for review in reviews:\n",
    "        review_words = review.split()\n",
    "        review_int = []\n",
    "        for review_word in review_words:\n",
    "            review_int.append(vocab_to_int[review_word])\n",
    "        review_ints.append(review_int)\n",
    "    return review_ints"
   ]
  },
  {
   "cell_type": "code",
   "execution_count": 10,
   "metadata": {},
   "outputs": [],
   "source": [
    "# Create your dictionary that maps vocab words to integers here\n",
    "vocab_to_int = {word:i+1 for i, word in enumerate(unique_words)}\n",
    "\n",
    "# Convert the reviews to integers, same shape as reviews list, but with integers\n",
    "reviews_ints = get_review_ints(reviews, vocab_to_int)"
   ]
  },
  {
   "cell_type": "markdown",
   "metadata": {},
   "source": [
    "### Encoding the labels\n",
    "\n",
    "Our labels are \"positive\" or \"negative\". To use these labels in our network, we need to convert them to 0 and 1.\n",
    "\n",
    "> **Exercise:** Convert labels from `positive` and `negative` to 1 and 0, respectively."
   ]
  },
  {
   "cell_type": "code",
   "execution_count": 11,
   "metadata": {},
   "outputs": [
    {
     "data": {
      "text/plain": [
       "['positive', 'negative', 'positive', 'negative', 'positive']"
      ]
     },
     "execution_count": 11,
     "metadata": {},
     "output_type": "execute_result"
    }
   ],
   "source": [
    "labels.split(\"\\n\")[:5]"
   ]
  },
  {
   "cell_type": "code",
   "execution_count": 12,
   "metadata": {},
   "outputs": [],
   "source": [
    "# Convert labels to 1s and 0s for 'positive' and 'negative'\n",
    "labels = [1 if label == \"positive\" else 0 for label in labels.split(\"\\n\")]"
   ]
  },
  {
   "cell_type": "code",
   "execution_count": 13,
   "metadata": {},
   "outputs": [
    {
     "data": {
      "text/plain": [
       "[1, 0, 1, 0, 1]"
      ]
     },
     "execution_count": 13,
     "metadata": {},
     "output_type": "execute_result"
    }
   ],
   "source": [
    "labels[:5]"
   ]
  },
  {
   "cell_type": "markdown",
   "metadata": {},
   "source": [
    "If you built `labels` correctly, you should see the next output."
   ]
  },
  {
   "cell_type": "code",
   "execution_count": 14,
   "metadata": {},
   "outputs": [
    {
     "name": "stdout",
     "output_type": "stream",
     "text": [
      "Zero-length reviews: 1\n",
      "Maximum review length: 2514\n"
     ]
    }
   ],
   "source": [
    "from collections import Counter\n",
    "review_lens = Counter([len(x) for x in reviews_ints])\n",
    "print(\"Zero-length reviews: {}\".format(review_lens[0]))\n",
    "print(\"Maximum review length: {}\".format(max(review_lens)))"
   ]
  },
  {
   "cell_type": "markdown",
   "metadata": {},
   "source": [
    "Okay, a couple issues here. We seem to have one review with zero length. And, the maximum review length is way too many steps for our RNN. Let's truncate to 200 steps. For reviews shorter than 200, we'll pad with 0s. For reviews longer than 200, we can truncate them to the first 200 characters.\n",
    "\n",
    "> **Exercise:** First, remove the review with zero length from the `reviews_ints` list."
   ]
  },
  {
   "cell_type": "code",
   "execution_count": 15,
   "metadata": {},
   "outputs": [],
   "source": [
    "idx = reviews_ints.index([])"
   ]
  },
  {
   "cell_type": "code",
   "execution_count": 16,
   "metadata": {},
   "outputs": [],
   "source": [
    "# Filter out that review with 0 length\n",
    "reviews_ints = reviews_ints[:idx] + reviews_ints[idx+1:]"
   ]
  },
  {
   "cell_type": "code",
   "execution_count": 17,
   "metadata": {},
   "outputs": [],
   "source": [
    "labels = np.array(labels[:idx] + labels[idx+1:])"
   ]
  },
  {
   "cell_type": "markdown",
   "metadata": {},
   "source": [
    "> **Exercise:** Now, create an array `features` that contains the data we'll pass to the network. The data should come from `review_ints`, since we want to feed integers to the network. Each row should be 200 elements long. For reviews shorter than 200 words, left pad with 0s. That is, if the review is `['best', 'movie', 'ever']`, `[117, 18, 128]` as integers, the row will look like `[0, 0, 0, ..., 0, 117, 18, 128]`. For reviews longer than 200, use on the first 200 words as the feature vector.\n",
    "\n",
    "This isn't trivial and there are a bunch of ways to do this. But, if you're going to be building your own deep learning networks, you're going to have to get used to preparing your data.\n",
    "\n"
   ]
  },
  {
   "cell_type": "code",
   "execution_count": 18,
   "metadata": {},
   "outputs": [],
   "source": [
    "def get_features(reviews_ints, seq_len):\n",
    "    truncated_reviews = []\n",
    "    for review in reviews_ints:\n",
    "        t_review = []\n",
    "        if len(review)<seq_len:\n",
    "            t_review = np.concatenate((np.zeros(seq_len-len(review)) , np.array(review)))\n",
    "        else:\n",
    "            t_review = review[:seq_len]\n",
    "        truncated_reviews.append(list(t_review))\n",
    "    return np.array(truncated_reviews)"
   ]
  },
  {
   "cell_type": "code",
   "execution_count": 19,
   "metadata": {},
   "outputs": [],
   "source": [
    "seq_len = 200\n",
    "features = get_features(reviews_ints, seq_len)"
   ]
  },
  {
   "cell_type": "code",
   "execution_count": 20,
   "metadata": {},
   "outputs": [
    {
     "data": {
      "text/plain": [
       "array([[     0.,      0.,      0.,      0.,      0.,      0.,      0.,\n",
       "             0.,      0.,      0.,      0.,      0.,      0.,      0.,\n",
       "             0.,      0.,      0.,      0.,      0.,      0.,      0.,\n",
       "             0.,      0.,      0.,      0.,      0.,      0.,      0.,\n",
       "             0.,      0.,      0.,      0.,      0.,      0.,      0.,\n",
       "             0.,      0.,      0.,      0.,      0.,      0.,      0.,\n",
       "             0.,      0.,      0.,      0.,      0.,      0.,      0.,\n",
       "             0.,      0.,      0.,      0.,      0.,      0.,      0.,\n",
       "             0.,      0.,      0.,      0.,  62446.,  31030.,  59604.,\n",
       "         57462.,  20287.,  68295.,  59988.,  42641.,  14728.,  24334.,\n",
       "         12678.,  58732.,   4271.,  16547.,   9625.,  67012.,  73706.,\n",
       "         55156.,  25857.,  60616.,   4271.,  36987.,  25059.,  58765.,\n",
       "         50023.,  24334.,  42902.,  56066.,  35267.,  51019.,  14071.,\n",
       "         55988.,  45004.,  62446.,  31030.,  64263.,   3745.,  59604.,\n",
       "         57936.,  64788.],\n",
       "       [     0.,      0.,      0.,      0.,      0.,      0.,      0.,\n",
       "             0.,      0.,      0.,      0.,      0.,      0.,      0.,\n",
       "             0.,      0.,      0.,      0.,      0.,      0.,      0.,\n",
       "             0.,      0.,      0.,      0.,      0.,      0.,      0.,\n",
       "             0.,      0.,      0.,      0.,      0.,      0.,      0.,\n",
       "             0.,      0.,      0.,      0.,      0.,      0.,      0.,\n",
       "             0.,      0.,      0.,      0.,      0.,      0.,      0.,\n",
       "             0.,      0.,      0.,      0.,      0.,      0.,      0.,\n",
       "             0.,      0.,      0.,      0.,      0.,      0.,      0.,\n",
       "             0.,      0.,      0.,      0.,      0.,      0.,      0.,\n",
       "             0.,      0.,      0.,      0.,      0.,      0.,      0.,\n",
       "             0.,      0.,      0.,      0.,      0.,      0.,      0.,\n",
       "             0.,      0.,  49171.,  35751.,  57462.,   8824.,    299.,\n",
       "         37604.,  38627.,  22879.,  39115.,  57462.,   8498.,  17124.,\n",
       "         72929.,  37064.],\n",
       "       [ 54809.,  52851.,  17341.,   4271.,   9409.,  71647.,  73692.,\n",
       "         37604.,  27015.,  13022.,  46563.,  39115.,  58765.,  39893.,\n",
       "         33257.,  57462.,  11910.,  14071.,  51915.,  42520.,  65619.,\n",
       "         24334.,  40936.,  45004.,  21611.,  40609.,  56281.,  10721.,\n",
       "           299.,  30032.,   2905.,  37687.,  23406.,  14071.,  55156.,\n",
       "         67626.,  52851.,  37092.,  39115.,  24334.,  14128.,  35630.,\n",
       "         55351.,  63330.,  35751.,  24334.,  21404.,   4271.,  21203.,\n",
       "         57462.,  18000.,  69527.,  60805.,  14487.,  73706.,   1351.,\n",
       "         60616.,   4271.,  13039.,  24334.,    283.,  65619.,  13451.,\n",
       "         34587.,  48315.,  14071.,  42494.,  39588.,  24334.,  72827.,\n",
       "         25007.,  52851.,  14487.,   2653.,  24845.,  21647.,  21570.,\n",
       "         63008.,  14071.,  41006.,  41306.,  65619.,  24334.,  28720.,\n",
       "          6371.,   6371.,  39893.,  61530.,   2653.,  16288.,  21611.,\n",
       "         54206.,  57462.,  29597.,  14071.,  44967.,  65619.,  24334.,\n",
       "         28720.,  39115.],\n",
       "       [ 68681.,  17124.,   4271.,  57462.,  14606.,  56138.,   8159.,\n",
       "         47748.,  59604.,  50446.,  41306.,  37064.,  70091.,  36147.,\n",
       "         60616.,  42654.,  14071.,  72280.,  25723.,  72030.,  28764.,\n",
       "         71287.,  57142.,    299.,  59604.,  20496.,  40035.,  57462.,\n",
       "         32737.,  35751.,  59065.,  64263.,  14071.,  66380.,  30467.,\n",
       "         50023.,  58204.,  35751.,  59988.,  44240.,  44164.,  14071.,\n",
       "         24334.,  51845.,   4271.,  57462.,  68144.,  18047.,  65619.,\n",
       "         53019.,  59604.,  28764.,  31328.,  15767.,  30145.,  47013.,\n",
       "         72364.,  72500.,  24334.,   8159.,  53686.,  62677.,  48300.,\n",
       "          4271.,  23381.,  39893.,  24092.,  32369.,  24334.,  47748.,\n",
       "         59604.,  53105.,  28175.,   8321.,  24334.,  70350.,  56245.,\n",
       "         42250.,   2139.,   1308.,  66380.,  19553.,   2381.,  64263.,\n",
       "         40276.,  68048.,  50033.,  18922.,  49811.,  31204.,    299.,\n",
       "         37360.,  24334.,  36317.,  73205.,  72929.,  37064.,   9284.,\n",
       "         45356.,  24845.],\n",
       "       [     0.,      0.,      0.,      0.,      0.,      0.,      0.,\n",
       "             0.,      0.,      0.,      0.,      0.,      0.,      0.,\n",
       "             0.,      0.,      0.,      0.,      0.,      0.,      0.,\n",
       "             0.,      0.,      0.,      0.,      0.,      0.,      0.,\n",
       "             0.,      0.,      0.,      0.,      0.,      0.,      0.,\n",
       "             0.,      0.,      0.,      0.,      0.,      0.,      0.,\n",
       "             0.,      0.,      0.,      0.,      0.,      0.,      0.,\n",
       "             0.,  63165.,  32051.,   2825.,   8321.,  68305.,   2346.,\n",
       "          7198.,  68730.,  47028.,   2862.,    611.,  70516.,  32928.,\n",
       "         19731.,  22958.,  21514.,  40297.,  35664.,  50023.,  53391.,\n",
       "         69078.,  23905.,  56790.,  14071.,   7707.,  24334.,  50857.,\n",
       "         65619.,  66139.,  59604.,  57462.,  51555.,   4271.,  70335.,\n",
       "          4271.,  53884.,  50023.,  13059.,  36957.,  24334.,   2743.,\n",
       "         65619.,  58626.,  59604.,  18047.,  51425.,  41171.,  44240.,\n",
       "         69330.,  35751.],\n",
       "       [     0.,      0.,      0.,      0.,      0.,      0.,      0.,\n",
       "             0.,      0.,      0.,      0.,      0.,      0.,      0.,\n",
       "             0.,      0.,      0.,      0.,      0.,      0.,      0.,\n",
       "             0.,      0.,      0.,      0.,      0.,      0.,      0.,\n",
       "             0.,      0.,      0.,      0.,      0.,      0.,      0.,\n",
       "             0.,      0.,      0.,      0.,      0.,      0.,      0.,\n",
       "             0.,      0.,      0.,      0.,      0.,      0.,      0.,\n",
       "             0.,      0.,      0.,      0.,      0.,  18200.,  44378.,\n",
       "         68721.,  39353.,  70516.,  61235.,  68173.,  47883.,  25059.,\n",
       "         33593.,  65619.,  14728.,  41629.,  31511.,  65619.,  24334.,\n",
       "         62209.,  35751.,  24334.,  55071.,  31330.,  18200.,  43516.,\n",
       "         53276.,  14071.,  65239.,  35751.,  57056.,  22081.,  54640.,\n",
       "         21926.,  24334.,  57084.,  37064.,  72364.,  55071.,   8824.,\n",
       "         56348.,  24334.,   8020.,  35664.,  38871.,  53591.,   4271.,\n",
       "         44240.,  44973.],\n",
       "       [     0.,      0.,      0.,      0.,      0.,      0.,      0.,\n",
       "             0.,      0.,      0.,      0.,      0.,      0.,      0.,\n",
       "             0.,      0.,      0.,      0.,      0.,      0.,      0.,\n",
       "             0.,      0.,      0.,      0.,      0.,      0.,      0.,\n",
       "             0.,      0.,      0.,      0.,      0.,      0.,      0.,\n",
       "             0.,      0.,      0.,      0.,      0.,      0.,      0.,\n",
       "             0.,      0.,      0.,      0.,      0.,      0.,      0.,\n",
       "             0.,      0.,      0.,      0.,      0.,      0.,      0.,\n",
       "             0.,      0.,      0.,      0.,      0.,      0.,      0.,\n",
       "             0.,      0.,      0.,      0.,      0.,      0.,      0.,\n",
       "             0.,      0.,      0.,      0.,      0.,      0.,  18200.,\n",
       "         59604.,  11127.,  24334.,  35630.,  29563.,  44378.,  18029.,\n",
       "         24334.,  34659.,  68828.,  59691.,  36770.,  12335.,  59988.,\n",
       "         72676.,  45137.,  34011.,  57462.,  64962.,  18145.,  35751.,\n",
       "         54809.,  23261.],\n",
       "       [     0.,      0.,      0.,      0.,      0.,      0.,      0.,\n",
       "             0.,      0.,      0.,      0.,      0.,      0.,      0.,\n",
       "             0.,      0.,      0.,      0.,      0.,      0.,      0.,\n",
       "             0.,      0.,      0.,      0.,      0.,      0.,      0.,\n",
       "             0.,      0.,      0.,      0.,      0.,      0.,      0.,\n",
       "             0.,      0.,      0.,      0.,      0.,      0.,      0.,\n",
       "             0.,      0.,      0.,      0.,      0.,  45304.,   8914.,\n",
       "         70516.,  35226.,  18200.,  59604.,  29128.,  14071.,  21570.,\n",
       "         13022.,  68550.,  44378.,  39893.,  66738.,  24845.,  23413.,\n",
       "         32928.,  34316.,  72929.,  17539.,  14728.,  24334.,   4626.,\n",
       "         61498.,  55351.,  13213.,  46352.,  34803.,  61488.,  72929.,\n",
       "         21514.,  45137.,  41345.,  24816.,  24334.,   6645.,   4293.,\n",
       "         21514.,  47511.,   4629.,  61763.,  43654.,  18200.,  49171.,\n",
       "         59604.,  45395.,  66682.,  14071.,  41345.,  24334.,  20770.,\n",
       "         35751.,  57462.],\n",
       "       [     0.,      0.,      0.,      0.,      0.,      0.,      0.,\n",
       "             0.,      0.,      0.,      0.,      0.,      0.,      0.,\n",
       "             0.,      0.,      0.,      0.,      0.,      0.,      0.,\n",
       "             0.,      0.,      0.,      0.,      0.,      0.,      0.,\n",
       "             0.,      0.,      0.,      0.,      0.,      0.,      0.,\n",
       "             0.,      0.,      0.,      0.,      0.,      0.,      0.,\n",
       "             0.,      0.,      0.,      0.,      0.,      0.,      0.,\n",
       "             0.,      0.,      0.,      0.,      0.,      0.,      0.,\n",
       "             0.,      0.,      0.,      0.,      0.,      0.,      0.,\n",
       "             0.,      0.,      0.,      0.,      0.,      0.,      0.,\n",
       "             0.,      0.,      0.,      0.,      0.,      0.,      0.,\n",
       "             0.,      0.,  18200.,  59604.,  45137.,  24334.,   2504.,\n",
       "          2272.,  34659.,  44378.,  59988.,  61763.,  57936.,  28331.,\n",
       "         37233.,  68221.,  35630.,  35751.,  66380.,  52472.,  21514.,\n",
       "         46275.,  41637.],\n",
       "       [ 22081.,  70516.,  61763.,  40850.,  25059.,  10644.,  16654.,\n",
       "         51019.,   1291.,  14071.,  24334.,  62177.,  14071.,  73634.,\n",
       "         14953.,  59988.,  61763.,  71855.,  35751.,   9934.,  52472.,\n",
       "         70516.,  59620.,  37064.,  25059.,  10644.,  39893.,  18200.,\n",
       "         61763.,  24334.,  35247.,  71855.,  40550.,  12227.,  72929.,\n",
       "         35751.,  13505.,  23943.,  70516.,  41637.,  33257.,  22958.,\n",
       "         14953.,    414.,  21203.,  22164.,  21514.,  70516.,  13213.,\n",
       "         32928.,  48128.,  72929.,  24334.,  66792.,  35751.,  25059.,\n",
       "         25857.,  34624.,  59988.,  61530.,  57462.,  27822.,  60124.,\n",
       "         21514.,  67262.,   4304.,   9398.,  35751.,  64263.,  13934.,\n",
       "         21514.,  30269.,  23813.,   7388.,   3692.,  59604.,  71855.,\n",
       "         35751.,  25059.,  59095.,  16855.,  39893.,  14953.,  59604.,\n",
       "          8321.,   1673.,  24334.,  42373.,   9398.,  35751.,  67619.,\n",
       "         35751.,  66380.,  71384.,  50023.,  24334.,  54849.,  33908.,\n",
       "         35751.,  39835.]])"
      ]
     },
     "execution_count": 20,
     "metadata": {},
     "output_type": "execute_result"
    }
   ],
   "source": [
    "features[:10,:100]"
   ]
  },
  {
   "cell_type": "code",
   "execution_count": 21,
   "metadata": {},
   "outputs": [
    {
     "data": {
      "text/plain": [
       "(25000, 200)"
      ]
     },
     "execution_count": 21,
     "metadata": {},
     "output_type": "execute_result"
    }
   ],
   "source": [
    "features.shape"
   ]
  },
  {
   "cell_type": "markdown",
   "metadata": {},
   "source": [
    "If you build features correctly, it should look like that cell output below."
   ]
  },
  {
   "cell_type": "code",
   "execution_count": 207,
   "metadata": {},
   "outputs": [
    {
     "data": {
      "text/plain": [
       "array([[  0.00000000e+00,   0.00000000e+00,   0.00000000e+00,\n",
       "          0.00000000e+00,   0.00000000e+00,   0.00000000e+00,\n",
       "          0.00000000e+00,   0.00000000e+00,   0.00000000e+00,\n",
       "          0.00000000e+00,   0.00000000e+00,   0.00000000e+00,\n",
       "          0.00000000e+00,   0.00000000e+00,   0.00000000e+00,\n",
       "          0.00000000e+00,   0.00000000e+00,   0.00000000e+00,\n",
       "          0.00000000e+00,   0.00000000e+00,   0.00000000e+00,\n",
       "          0.00000000e+00,   0.00000000e+00,   0.00000000e+00,\n",
       "          0.00000000e+00,   0.00000000e+00,   0.00000000e+00,\n",
       "          0.00000000e+00,   0.00000000e+00,   0.00000000e+00,\n",
       "          0.00000000e+00,   0.00000000e+00,   0.00000000e+00,\n",
       "          0.00000000e+00,   0.00000000e+00,   0.00000000e+00,\n",
       "          0.00000000e+00,   0.00000000e+00,   0.00000000e+00,\n",
       "          0.00000000e+00,   0.00000000e+00,   0.00000000e+00,\n",
       "          0.00000000e+00,   0.00000000e+00,   0.00000000e+00,\n",
       "          0.00000000e+00,   0.00000000e+00,   0.00000000e+00,\n",
       "          0.00000000e+00,   0.00000000e+00,   0.00000000e+00,\n",
       "          0.00000000e+00,   0.00000000e+00,   0.00000000e+00,\n",
       "          0.00000000e+00,   0.00000000e+00,   0.00000000e+00,\n",
       "          0.00000000e+00,   0.00000000e+00,   0.00000000e+00,\n",
       "          5.23760000e+04,   4.77210000e+04,   1.82070000e+04,\n",
       "          5.82740000e+04,   2.43860000e+04,   5.19680000e+04,\n",
       "          5.67810000e+04,   1.31230000e+04,   4.79200000e+04,\n",
       "          2.07290000e+04,   3.54000000e+02,   8.48000000e+02,\n",
       "          1.85860000e+04,   7.39910000e+04,   3.36030000e+04,\n",
       "          3.10940000e+04,   3.70000000e+04,   1.33550000e+04,\n",
       "          3.58010000e+04,   2.14550000e+04,   1.85860000e+04,\n",
       "          6.55790000e+04,   6.21330000e+04,   4.33250000e+04,\n",
       "          7.13090000e+04,   2.07290000e+04,   9.31600000e+03,\n",
       "          1.81030000e+04,   2.35350000e+04,   4.48510000e+04,\n",
       "          2.08740000e+04,   1.25450000e+04,   4.36150000e+04,\n",
       "          5.23760000e+04,   4.77210000e+04,   4.05350000e+04,\n",
       "          5.07160000e+04,   1.82070000e+04,   6.11420000e+04,\n",
       "          4.87500000e+03],\n",
       "       [  0.00000000e+00,   0.00000000e+00,   0.00000000e+00,\n",
       "          0.00000000e+00,   0.00000000e+00,   0.00000000e+00,\n",
       "          0.00000000e+00,   0.00000000e+00,   0.00000000e+00,\n",
       "          0.00000000e+00,   0.00000000e+00,   0.00000000e+00,\n",
       "          0.00000000e+00,   0.00000000e+00,   0.00000000e+00,\n",
       "          0.00000000e+00,   0.00000000e+00,   0.00000000e+00,\n",
       "          0.00000000e+00,   0.00000000e+00,   0.00000000e+00,\n",
       "          0.00000000e+00,   0.00000000e+00,   0.00000000e+00,\n",
       "          0.00000000e+00,   0.00000000e+00,   0.00000000e+00,\n",
       "          0.00000000e+00,   0.00000000e+00,   0.00000000e+00,\n",
       "          0.00000000e+00,   0.00000000e+00,   0.00000000e+00,\n",
       "          0.00000000e+00,   0.00000000e+00,   0.00000000e+00,\n",
       "          0.00000000e+00,   0.00000000e+00,   0.00000000e+00,\n",
       "          0.00000000e+00,   0.00000000e+00,   0.00000000e+00,\n",
       "          0.00000000e+00,   0.00000000e+00,   0.00000000e+00,\n",
       "          0.00000000e+00,   0.00000000e+00,   0.00000000e+00,\n",
       "          0.00000000e+00,   0.00000000e+00,   0.00000000e+00,\n",
       "          0.00000000e+00,   0.00000000e+00,   0.00000000e+00,\n",
       "          0.00000000e+00,   0.00000000e+00,   0.00000000e+00,\n",
       "          0.00000000e+00,   0.00000000e+00,   0.00000000e+00,\n",
       "          0.00000000e+00,   0.00000000e+00,   0.00000000e+00,\n",
       "          0.00000000e+00,   0.00000000e+00,   0.00000000e+00,\n",
       "          0.00000000e+00,   0.00000000e+00,   0.00000000e+00,\n",
       "          0.00000000e+00,   0.00000000e+00,   0.00000000e+00,\n",
       "          0.00000000e+00,   0.00000000e+00,   0.00000000e+00,\n",
       "          0.00000000e+00,   0.00000000e+00,   0.00000000e+00,\n",
       "          0.00000000e+00,   0.00000000e+00,   0.00000000e+00,\n",
       "          0.00000000e+00,   0.00000000e+00,   0.00000000e+00,\n",
       "          0.00000000e+00,   0.00000000e+00,   3.36160000e+04,\n",
       "          4.98960000e+04,   5.82740000e+04,   3.31410000e+04,\n",
       "          3.91870000e+04,   1.96460000e+04,   4.39780000e+04,\n",
       "          5.36950000e+04,   4.92070000e+04,   5.82740000e+04,\n",
       "          4.66250000e+04,   2.99810000e+04,   1.45780000e+04,\n",
       "          6.08030000e+04],\n",
       "       [  3.78180000e+04,   4.06100000e+03,   2.25950000e+04,\n",
       "          1.85860000e+04,   4.20520000e+04,   9.60500000e+03,\n",
       "          1.34290000e+04,   1.96460000e+04,   1.06290000e+04,\n",
       "          5.09440000e+04,   4.57900000e+03,   4.92070000e+04,\n",
       "          4.33250000e+04,   6.56440000e+04,   3.67660000e+04,\n",
       "          5.82740000e+04,   6.23550000e+04,   2.08740000e+04,\n",
       "          4.48340000e+04,   4.12960000e+04,   6.49950000e+04,\n",
       "          2.07290000e+04,   1.82680000e+04,   4.36150000e+04,\n",
       "          5.56460000e+04,   5.69850000e+04,   6.09610000e+04,\n",
       "          3.33250000e+04,   3.91870000e+04,   4.17500000e+03,\n",
       "          1.48290000e+04,   4.54820000e+04,   6.88150000e+04,\n",
       "          2.08740000e+04,   1.33550000e+04,   5.72500000e+04,\n",
       "          4.06100000e+03,   5.33490000e+04,   4.92070000e+04,\n",
       "          2.07290000e+04,   8.80500000e+03,   5.93250000e+04,\n",
       "          2.37900000e+03,   6.87250000e+04,   4.98960000e+04,\n",
       "          2.07290000e+04,   2.32300000e+04,   1.85860000e+04,\n",
       "          4.41440000e+04,   5.82740000e+04,   2.32510000e+04,\n",
       "          6.63800000e+04,   1.91430000e+04,   2.38300000e+04,\n",
       "          3.70000000e+04,   5.83690000e+04,   2.14550000e+04,\n",
       "          1.85860000e+04,   4.39890000e+04,   2.07290000e+04,\n",
       "          1.54770000e+04,   6.49950000e+04,   3.44700000e+04,\n",
       "          3.43040000e+04,   2.61460000e+04,   2.08740000e+04,\n",
       "          2.47200000e+03,   5.64360000e+04,   2.07290000e+04,\n",
       "          1.48730000e+04,   3.79600000e+03,   4.06100000e+03,\n",
       "          2.38300000e+04,   4.84230000e+04,   3.26560000e+04,\n",
       "          1.43460000e+04,   1.19540000e+04,   8.76000000e+02,\n",
       "          2.08740000e+04,   5.66840000e+04,   1.90730000e+04,\n",
       "          6.49950000e+04,   2.07290000e+04,   5.30000000e+04,\n",
       "          3.82800000e+04,   3.82800000e+04,   6.56440000e+04,\n",
       "          4.66390000e+04,   4.84230000e+04,   5.63770000e+04,\n",
       "          5.56460000e+04,   2.79630000e+04,   5.82740000e+04,\n",
       "          2.90050000e+04,   2.08740000e+04,   1.27920000e+04,\n",
       "          6.49950000e+04,   2.07290000e+04,   5.30000000e+04,\n",
       "          4.92070000e+04],\n",
       "       [  5.32290000e+04,   2.99810000e+04,   1.85860000e+04,\n",
       "          5.82740000e+04,   6.96160000e+04,   1.56830000e+04,\n",
       "          6.95770000e+04,   1.00000000e+01,   1.82070000e+04,\n",
       "          2.04030000e+04,   1.90730000e+04,   6.08030000e+04,\n",
       "          2.03460000e+04,   2.62270000e+04,   2.14550000e+04,\n",
       "          5.62360000e+04,   2.08740000e+04,   3.94060000e+04,\n",
       "          7.32170000e+04,   2.33170000e+04,   7.27960000e+04,\n",
       "          5.77660000e+04,   2.61830000e+04,   3.91870000e+04,\n",
       "          1.82070000e+04,   5.89910000e+04,   3.74050000e+04,\n",
       "          5.82740000e+04,   7.08470000e+04,   4.98960000e+04,\n",
       "          2.19580000e+04,   4.05350000e+04,   2.08740000e+04,\n",
       "          6.68640000e+04,   1.53540000e+04,   7.13090000e+04,\n",
       "          6.92300000e+03,   4.98960000e+04,   5.67810000e+04,\n",
       "          1.71670000e+04,   7.00970000e+04,   2.08740000e+04,\n",
       "          2.07290000e+04,   4.99960000e+04,   1.85860000e+04,\n",
       "          5.82740000e+04,   5.78770000e+04,   2.93570000e+04,\n",
       "          6.49950000e+04,   6.99600000e+04,   1.82070000e+04,\n",
       "          7.27960000e+04,   3.30400000e+03,   8.64300000e+03,\n",
       "          5.10590000e+04,   4.54480000e+04,   6.99270000e+04,\n",
       "          8.40600000e+03,   2.07290000e+04,   6.95770000e+04,\n",
       "          1.58410000e+04,   2.40250000e+04,   5.89400000e+04,\n",
       "          1.85860000e+04,   2.34940000e+04,   6.56440000e+04,\n",
       "          3.68200000e+04,   2.64460000e+04,   2.07290000e+04,\n",
       "          1.00000000e+01,   1.82070000e+04,   2.12980000e+04,\n",
       "          5.18810000e+04,   4.85440000e+04,   2.07290000e+04,\n",
       "          5.60080000e+04,   5.65600000e+04,   1.69090000e+04,\n",
       "          1.59700000e+04,   6.11170000e+04,   6.68640000e+04,\n",
       "          1.40920000e+04,   5.49970000e+04,   4.05350000e+04,\n",
       "          5.91400000e+04,   2.61580000e+04,   6.02440000e+04,\n",
       "          1.18530000e+04,   9.96400000e+03,   2.47000000e+03,\n",
       "          3.91870000e+04,   5.09400000e+03,   2.07290000e+04,\n",
       "          7.29850000e+04,   4.68600000e+03,   1.45780000e+04,\n",
       "          6.08030000e+04,   3.40860000e+04,   1.44450000e+04,\n",
       "          3.26560000e+04],\n",
       "       [  0.00000000e+00,   0.00000000e+00,   0.00000000e+00,\n",
       "          0.00000000e+00,   0.00000000e+00,   0.00000000e+00,\n",
       "          0.00000000e+00,   0.00000000e+00,   0.00000000e+00,\n",
       "          0.00000000e+00,   0.00000000e+00,   0.00000000e+00,\n",
       "          0.00000000e+00,   0.00000000e+00,   0.00000000e+00,\n",
       "          0.00000000e+00,   0.00000000e+00,   0.00000000e+00,\n",
       "          0.00000000e+00,   0.00000000e+00,   0.00000000e+00,\n",
       "          0.00000000e+00,   0.00000000e+00,   0.00000000e+00,\n",
       "          0.00000000e+00,   0.00000000e+00,   0.00000000e+00,\n",
       "          0.00000000e+00,   0.00000000e+00,   0.00000000e+00,\n",
       "          0.00000000e+00,   0.00000000e+00,   0.00000000e+00,\n",
       "          0.00000000e+00,   0.00000000e+00,   0.00000000e+00,\n",
       "          0.00000000e+00,   0.00000000e+00,   0.00000000e+00,\n",
       "          0.00000000e+00,   0.00000000e+00,   0.00000000e+00,\n",
       "          0.00000000e+00,   0.00000000e+00,   0.00000000e+00,\n",
       "          0.00000000e+00,   0.00000000e+00,   0.00000000e+00,\n",
       "          0.00000000e+00,   0.00000000e+00,   2.29560000e+04,\n",
       "          4.89080000e+04,   6.61650000e+04,   4.85440000e+04,\n",
       "          4.11050000e+04,   1.85370000e+04,   4.46160000e+04,\n",
       "          4.42070000e+04,   6.13930000e+04,   7.37740000e+04,\n",
       "          7.28520000e+04,   6.54390000e+04,   2.70230000e+04,\n",
       "          2.46860000e+04,   3.47160000e+04,   5.70000000e+04,\n",
       "          3.21110000e+04,   6.38300000e+04,   7.13090000e+04,\n",
       "          4.23500000e+03,   6.82640000e+04,   4.12280000e+04,\n",
       "          5.85180000e+04,   2.08740000e+04,   5.61750000e+04,\n",
       "          2.07290000e+04,   6.34980000e+04,   6.49950000e+04,\n",
       "          5.83860000e+04,   1.82070000e+04,   5.82740000e+04,\n",
       "          7.34290000e+04,   1.85860000e+04,   5.94080000e+04,\n",
       "          1.85860000e+04,   2.37000000e+02,   7.13090000e+04,\n",
       "          4.31540000e+04,   2.61000000e+03,   2.07290000e+04,\n",
       "          6.44700000e+03,   6.49950000e+04,   4.38300000e+04,\n",
       "          1.82070000e+04,   2.93570000e+04,   3.64150000e+04,\n",
       "          2.39540000e+04,   1.71670000e+04,   6.40820000e+04,\n",
       "          4.98960000e+04],\n",
       "       [  0.00000000e+00,   0.00000000e+00,   0.00000000e+00,\n",
       "          0.00000000e+00,   0.00000000e+00,   0.00000000e+00,\n",
       "          0.00000000e+00,   0.00000000e+00,   0.00000000e+00,\n",
       "          0.00000000e+00,   0.00000000e+00,   0.00000000e+00,\n",
       "          0.00000000e+00,   0.00000000e+00,   0.00000000e+00,\n",
       "          0.00000000e+00,   0.00000000e+00,   0.00000000e+00,\n",
       "          0.00000000e+00,   0.00000000e+00,   0.00000000e+00,\n",
       "          0.00000000e+00,   0.00000000e+00,   0.00000000e+00,\n",
       "          0.00000000e+00,   0.00000000e+00,   0.00000000e+00,\n",
       "          0.00000000e+00,   0.00000000e+00,   0.00000000e+00,\n",
       "          0.00000000e+00,   0.00000000e+00,   0.00000000e+00,\n",
       "          0.00000000e+00,   0.00000000e+00,   0.00000000e+00,\n",
       "          0.00000000e+00,   0.00000000e+00,   0.00000000e+00,\n",
       "          0.00000000e+00,   0.00000000e+00,   0.00000000e+00,\n",
       "          0.00000000e+00,   0.00000000e+00,   0.00000000e+00,\n",
       "          0.00000000e+00,   0.00000000e+00,   0.00000000e+00,\n",
       "          0.00000000e+00,   0.00000000e+00,   0.00000000e+00,\n",
       "          0.00000000e+00,   0.00000000e+00,   0.00000000e+00,\n",
       "          2.94200000e+03,   2.74640000e+04,   6.63600000e+04,\n",
       "          5.59410000e+04,   6.54390000e+04,   1.84100000e+04,\n",
       "          4.62200000e+04,   2.97500000e+03,   6.21330000e+04,\n",
       "          2.50410000e+04,   6.49950000e+04,   4.79200000e+04,\n",
       "          3.42170000e+04,   2.45000000e+02,   6.49950000e+04,\n",
       "          2.07290000e+04,   5.74560000e+04,   4.98960000e+04,\n",
       "          2.07290000e+04,   1.92900000e+04,   7.32850000e+04,\n",
       "          2.94200000e+03,   1.96120000e+04,   2.98590000e+04,\n",
       "          2.08740000e+04,   8.59400000e+03,   4.98960000e+04,\n",
       "          2.18050000e+04,   5.28700000e+04,   2.71160000e+04,\n",
       "          2.48050000e+04,   2.07290000e+04,   4.66690000e+04,\n",
       "          6.08030000e+04,   6.99270000e+04,   1.92900000e+04,\n",
       "          3.31410000e+04,   5.62010000e+04,   2.07290000e+04,\n",
       "          2.15900000e+03,   6.38300000e+04,   1.98480000e+04,\n",
       "          2.17300000e+03,   1.85860000e+04,   1.71670000e+04,\n",
       "          2.71060000e+04],\n",
       "       [  0.00000000e+00,   0.00000000e+00,   0.00000000e+00,\n",
       "          0.00000000e+00,   0.00000000e+00,   0.00000000e+00,\n",
       "          0.00000000e+00,   0.00000000e+00,   0.00000000e+00,\n",
       "          0.00000000e+00,   0.00000000e+00,   0.00000000e+00,\n",
       "          0.00000000e+00,   0.00000000e+00,   0.00000000e+00,\n",
       "          0.00000000e+00,   0.00000000e+00,   0.00000000e+00,\n",
       "          0.00000000e+00,   0.00000000e+00,   0.00000000e+00,\n",
       "          0.00000000e+00,   0.00000000e+00,   0.00000000e+00,\n",
       "          0.00000000e+00,   0.00000000e+00,   0.00000000e+00,\n",
       "          0.00000000e+00,   0.00000000e+00,   0.00000000e+00,\n",
       "          0.00000000e+00,   0.00000000e+00,   0.00000000e+00,\n",
       "          0.00000000e+00,   0.00000000e+00,   0.00000000e+00,\n",
       "          0.00000000e+00,   0.00000000e+00,   0.00000000e+00,\n",
       "          0.00000000e+00,   0.00000000e+00,   0.00000000e+00,\n",
       "          0.00000000e+00,   0.00000000e+00,   0.00000000e+00,\n",
       "          0.00000000e+00,   0.00000000e+00,   0.00000000e+00,\n",
       "          0.00000000e+00,   0.00000000e+00,   0.00000000e+00,\n",
       "          0.00000000e+00,   0.00000000e+00,   0.00000000e+00,\n",
       "          0.00000000e+00,   0.00000000e+00,   0.00000000e+00,\n",
       "          0.00000000e+00,   0.00000000e+00,   0.00000000e+00,\n",
       "          0.00000000e+00,   0.00000000e+00,   0.00000000e+00,\n",
       "          0.00000000e+00,   0.00000000e+00,   0.00000000e+00,\n",
       "          0.00000000e+00,   0.00000000e+00,   0.00000000e+00,\n",
       "          0.00000000e+00,   0.00000000e+00,   0.00000000e+00,\n",
       "          0.00000000e+00,   0.00000000e+00,   0.00000000e+00,\n",
       "          0.00000000e+00,   2.94200000e+03,   1.82070000e+04,\n",
       "          2.79090000e+04,   2.07290000e+04,   5.93250000e+04,\n",
       "          4.47060000e+04,   2.74640000e+04,   5.90930000e+04,\n",
       "          2.07290000e+04,   2.31150000e+04,   4.55610000e+04,\n",
       "          7.00850000e+04,   1.60060000e+04,   4.80130000e+04,\n",
       "          5.67810000e+04,   3.87620000e+04,   4.68740000e+04,\n",
       "          4.67850000e+04,   5.82740000e+04,   6.31190000e+04,\n",
       "          2.71410000e+04,   4.98960000e+04,   3.78180000e+04,\n",
       "          5.28220000e+04],\n",
       "       [  0.00000000e+00,   0.00000000e+00,   0.00000000e+00,\n",
       "          0.00000000e+00,   0.00000000e+00,   0.00000000e+00,\n",
       "          0.00000000e+00,   0.00000000e+00,   0.00000000e+00,\n",
       "          0.00000000e+00,   0.00000000e+00,   0.00000000e+00,\n",
       "          0.00000000e+00,   0.00000000e+00,   0.00000000e+00,\n",
       "          0.00000000e+00,   0.00000000e+00,   0.00000000e+00,\n",
       "          0.00000000e+00,   0.00000000e+00,   0.00000000e+00,\n",
       "          0.00000000e+00,   0.00000000e+00,   0.00000000e+00,\n",
       "          0.00000000e+00,   0.00000000e+00,   0.00000000e+00,\n",
       "          0.00000000e+00,   0.00000000e+00,   0.00000000e+00,\n",
       "          0.00000000e+00,   0.00000000e+00,   0.00000000e+00,\n",
       "          0.00000000e+00,   0.00000000e+00,   0.00000000e+00,\n",
       "          0.00000000e+00,   0.00000000e+00,   0.00000000e+00,\n",
       "          0.00000000e+00,   0.00000000e+00,   0.00000000e+00,\n",
       "          0.00000000e+00,   0.00000000e+00,   0.00000000e+00,\n",
       "          0.00000000e+00,   0.00000000e+00,   3.34930000e+04,\n",
       "          2.04840000e+04,   6.54390000e+04,   6.21410000e+04,\n",
       "          2.94200000e+03,   1.82070000e+04,   1.44740000e+04,\n",
       "          2.08740000e+04,   1.19540000e+04,   5.09440000e+04,\n",
       "          3.83390000e+04,   2.74640000e+04,   6.56440000e+04,\n",
       "          1.91700000e+03,   3.26560000e+04,   7.10170000e+04,\n",
       "          2.70230000e+04,   6.89150000e+04,   1.45780000e+04,\n",
       "          2.58580000e+04,   4.79200000e+04,   2.07290000e+04,\n",
       "          8.42700000e+03,   2.00380000e+04,   2.37900000e+03,\n",
       "          3.00280000e+04,   4.66970000e+04,   4.89450000e+04,\n",
       "          4.66650000e+04,   1.45780000e+04,   5.70000000e+04,\n",
       "          4.68740000e+04,   7.20800000e+03,   6.25200000e+03,\n",
       "          2.07290000e+04,   6.15140000e+04,   3.83380000e+04,\n",
       "          5.70000000e+04,   2.82510000e+04,   5.64220000e+04,\n",
       "          6.58100000e+04,   7.34480000e+04,   2.94200000e+03,\n",
       "          3.36160000e+04,   1.82070000e+04,   4.12100000e+03,\n",
       "          7.01500000e+03,   2.08740000e+04,   7.20800000e+03,\n",
       "          2.07290000e+04,   1.37110000e+04,   4.98960000e+04,\n",
       "          5.82740000e+04],\n",
       "       [  0.00000000e+00,   0.00000000e+00,   0.00000000e+00,\n",
       "          0.00000000e+00,   0.00000000e+00,   0.00000000e+00,\n",
       "          0.00000000e+00,   0.00000000e+00,   0.00000000e+00,\n",
       "          0.00000000e+00,   0.00000000e+00,   0.00000000e+00,\n",
       "          0.00000000e+00,   0.00000000e+00,   0.00000000e+00,\n",
       "          0.00000000e+00,   0.00000000e+00,   0.00000000e+00,\n",
       "          0.00000000e+00,   0.00000000e+00,   0.00000000e+00,\n",
       "          0.00000000e+00,   0.00000000e+00,   0.00000000e+00,\n",
       "          0.00000000e+00,   0.00000000e+00,   0.00000000e+00,\n",
       "          0.00000000e+00,   0.00000000e+00,   0.00000000e+00,\n",
       "          0.00000000e+00,   0.00000000e+00,   0.00000000e+00,\n",
       "          0.00000000e+00,   0.00000000e+00,   0.00000000e+00,\n",
       "          0.00000000e+00,   0.00000000e+00,   0.00000000e+00,\n",
       "          0.00000000e+00,   0.00000000e+00,   0.00000000e+00,\n",
       "          0.00000000e+00,   0.00000000e+00,   0.00000000e+00,\n",
       "          0.00000000e+00,   0.00000000e+00,   0.00000000e+00,\n",
       "          0.00000000e+00,   0.00000000e+00,   0.00000000e+00,\n",
       "          0.00000000e+00,   0.00000000e+00,   0.00000000e+00,\n",
       "          0.00000000e+00,   0.00000000e+00,   0.00000000e+00,\n",
       "          0.00000000e+00,   0.00000000e+00,   0.00000000e+00,\n",
       "          0.00000000e+00,   0.00000000e+00,   0.00000000e+00,\n",
       "          0.00000000e+00,   0.00000000e+00,   0.00000000e+00,\n",
       "          0.00000000e+00,   0.00000000e+00,   0.00000000e+00,\n",
       "          0.00000000e+00,   0.00000000e+00,   0.00000000e+00,\n",
       "          0.00000000e+00,   0.00000000e+00,   0.00000000e+00,\n",
       "          0.00000000e+00,   0.00000000e+00,   0.00000000e+00,\n",
       "          0.00000000e+00,   2.94200000e+03,   1.82070000e+04,\n",
       "          4.68740000e+04,   2.07290000e+04,   7.33130000e+04,\n",
       "          6.29050000e+04,   2.31150000e+04,   2.74640000e+04,\n",
       "          5.67810000e+04,   6.58100000e+04,   6.11420000e+04,\n",
       "          6.29150000e+04,   1.25900000e+04,   1.90450000e+04,\n",
       "          5.93250000e+04,   4.98960000e+04,   6.68640000e+04,\n",
       "          1.15480000e+04,   5.70000000e+04,   1.57690000e+04,\n",
       "          6.60600000e+03],\n",
       "       [  5.28700000e+04,   6.54390000e+04,   6.58100000e+04,\n",
       "          6.62740000e+04,   6.21330000e+04,   2.58230000e+04,\n",
       "          2.23890000e+04,   4.48510000e+04,   3.29800000e+03,\n",
       "          2.08740000e+04,   2.07290000e+04,   2.75520000e+04,\n",
       "          2.08740000e+04,   5.95480000e+04,   3.51200000e+03,\n",
       "          5.67810000e+04,   6.58100000e+04,   4.59880000e+04,\n",
       "          4.98960000e+04,   3.89090000e+04,   1.15480000e+04,\n",
       "          6.54390000e+04,   3.92800000e+04,   6.08030000e+04,\n",
       "          6.21330000e+04,   2.58230000e+04,   6.56440000e+04,\n",
       "          2.94200000e+03,   6.58100000e+04,   2.07290000e+04,\n",
       "          5.19820000e+04,   4.59880000e+04,   1.71110000e+04,\n",
       "          4.83170000e+04,   1.45780000e+04,   4.98960000e+04,\n",
       "          4.78970000e+04,   6.96800000e+04,   6.54390000e+04,\n",
       "          6.60600000e+03,   3.67660000e+04,   3.47160000e+04,\n",
       "          3.51200000e+03,   2.82350000e+04,   4.41440000e+04,\n",
       "          5.97430000e+04,   5.70000000e+04,   6.54390000e+04,\n",
       "          3.00280000e+04,   2.70230000e+04,   5.78870000e+04,\n",
       "          1.45780000e+04,   2.07290000e+04,   6.43720000e+04,\n",
       "          4.98960000e+04,   6.21330000e+04,   3.58010000e+04,\n",
       "          3.79450000e+04,   5.67810000e+04,   4.66390000e+04,\n",
       "          5.82740000e+04,   1.80320000e+04,   4.03260000e+04,\n",
       "          5.70000000e+04,   6.90440000e+04,   3.61630000e+04,\n",
       "          3.71900000e+04,   4.98960000e+04,   4.05350000e+04,\n",
       "          2.85180000e+04,   5.70000000e+04,   6.48650000e+04,\n",
       "          4.16440000e+04,   3.84650000e+04,   4.06590000e+04,\n",
       "          1.82070000e+04,   4.59880000e+04,   4.98960000e+04,\n",
       "          6.21330000e+04,   6.04240000e+04,   5.41900000e+03,\n",
       "          6.56440000e+04,   3.51200000e+03,   1.82070000e+04,\n",
       "          4.85440000e+04,   4.48330000e+04,   2.07290000e+04,\n",
       "          4.12030000e+04,   3.71900000e+04,   4.98960000e+04,\n",
       "          6.97310000e+04,   4.98960000e+04,   6.68640000e+04,\n",
       "          4.22670000e+04,   7.13090000e+04,   2.07290000e+04,\n",
       "          5.98570000e+04,   7.08150000e+04,   4.98960000e+04,\n",
       "          4.52050000e+04]])"
      ]
     },
     "execution_count": 207,
     "metadata": {},
     "output_type": "execute_result"
    }
   ],
   "source": [
    "features[:10,:100]"
   ]
  },
  {
   "cell_type": "markdown",
   "metadata": {},
   "source": [
    "## Training, Validation, Test\n",
    "\n"
   ]
  },
  {
   "cell_type": "markdown",
   "metadata": {},
   "source": [
    "With our data in nice shape, we'll split it into training, validation, and test sets.\n",
    "\n",
    "> **Exercise:** Create the training, validation, and test sets here. You'll need to create sets for the features and the labels, `train_x` and `train_y` for example. Define a split fraction, `split_frac` as the fraction of data to keep in the training set. Usually this is set to 0.8 or 0.9. The rest of the data will be split in half to create the validation and testing data."
   ]
  },
  {
   "cell_type": "code",
   "execution_count": 22,
   "metadata": {},
   "outputs": [],
   "source": [
    "from sklearn.model_selection import train_test_split"
   ]
  },
  {
   "cell_type": "code",
   "execution_count": 23,
   "metadata": {},
   "outputs": [],
   "source": [
    "split_frac = 0.8\n",
    "\n",
    "train_x, val_x, train_y, val_y = train_test_split(features, labels, test_size=1-split_frac, random_state=2)"
   ]
  },
  {
   "cell_type": "code",
   "execution_count": 24,
   "metadata": {},
   "outputs": [],
   "source": [
    "val_x, test_x, val_y, test_y = train_test_split(val_x, val_y, test_size=0.5, random_state=2)"
   ]
  },
  {
   "cell_type": "code",
   "execution_count": 25,
   "metadata": {},
   "outputs": [
    {
     "name": "stdout",
     "output_type": "stream",
     "text": [
      "\t\t\tFeature Shapes:\n",
      "Train set: \t\t(20000, 200) \n",
      "Validation set: \t(2500, 200) \n",
      "Test set: \t\t(2500, 200)\n"
     ]
    }
   ],
   "source": [
    "print(\"\\t\\t\\tFeature Shapes:\")\n",
    "print(\"Train set: \\t\\t{}\".format(train_x.shape), \n",
    "      \"\\nValidation set: \\t{}\".format(val_x.shape),\n",
    "      \"\\nTest set: \\t\\t{}\".format(test_x.shape))"
   ]
  },
  {
   "cell_type": "markdown",
   "metadata": {},
   "source": [
    "With train, validation, and text fractions of 0.8, 0.1, 0.1, the final shapes should look like:\n",
    "```\n",
    "                    Feature Shapes:\n",
    "Train set: \t\t (20000, 200) \n",
    "Validation set: \t(2500, 200) \n",
    "Test set: \t\t  (2500, 200)\n",
    "```"
   ]
  },
  {
   "cell_type": "markdown",
   "metadata": {},
   "source": [
    "## Build the graph\n",
    "\n",
    "Here, we'll build the graph. First up, defining the hyperparameters.\n",
    "\n",
    "* `lstm_size`: Number of units in the hidden layers in the LSTM cells. Usually larger is better performance wise. Common values are 128, 256, 512, etc.\n",
    "* `lstm_layers`: Number of LSTM layers in the network. I'd start with 1, then add more if I'm underfitting.\n",
    "* `batch_size`: The number of reviews to feed the network in one training pass. Typically this should be set as high as you can go without running out of memory.\n",
    "* `learning_rate`: Learning rate"
   ]
  },
  {
   "cell_type": "code",
   "execution_count": 54,
   "metadata": {},
   "outputs": [],
   "source": [
    "lstm_size = 256\n",
    "lstm_layers = 2\n",
    "batch_size = 500\n",
    "learning_rate = 0.001"
   ]
  },
  {
   "cell_type": "markdown",
   "metadata": {},
   "source": [
    "For the network itself, we'll be passing in our 200 element long review vectors. Each batch will be `batch_size` vectors. We'll also be using dropout on the LSTM layer, so we'll make a placeholder for the keep probability."
   ]
  },
  {
   "cell_type": "markdown",
   "metadata": {},
   "source": [
    "> **Exercise:** Create the `inputs_`, `labels_`, and drop out `keep_prob` placeholders using `tf.placeholder`. `labels_` needs to be two-dimensional to work with some functions later.  Since `keep_prob` is a scalar (a 0-dimensional tensor), you shouldn't provide a size to `tf.placeholder`."
   ]
  },
  {
   "cell_type": "code",
   "execution_count": 55,
   "metadata": {},
   "outputs": [],
   "source": [
    "n_words = len(vocab_to_int) + 1 # Adding 1 because we use 0's for padding, dictionary started at 1\n",
    "\n",
    "# Create the graph object\n",
    "graph = tf.Graph()\n",
    "# Add nodes to the graph\n",
    "with graph.as_default():\n",
    "    inputs_ = tf.placeholder(tf.int32, [None, None], name = \"inputs_\") # here it's None and None, note the dimension here!\n",
    "    labels_ = tf.placeholder(tf.int32, [None, None], name = \"labels_\")\n",
    "    keep_prob = tf.placeholder(tf.float32, name = \"keep_prob\")"
   ]
  },
  {
   "cell_type": "markdown",
   "metadata": {},
   "source": [
    "### Embedding\n",
    "\n",
    "Now we'll add an embedding layer. We need to do this because there are 74000 words in our vocabulary. It is massively inefficient to one-hot encode our classes here. You should remember dealing with this problem from the word2vec lesson. Instead of one-hot encoding, we can have an embedding layer and use that layer as a lookup table. You could train an embedding layer using word2vec, then load it here. But, it's fine to just make a new layer and let the network learn the weights.\n",
    "\n",
    "> **Exercise:** Create the embedding lookup matrix as a `tf.Variable`. Use that embedding matrix to get the embedded vectors to pass to the LSTM cell with [`tf.nn.embedding_lookup`](https://www.tensorflow.org/api_docs/python/tf/nn/embedding_lookup). This function takes the embedding matrix and an input tensor, such as the review vectors. Then, it'll return another tensor with the embedded vectors. So, if the embedding layer has 200 units, the function will return a tensor with size [batch_size, 200].\n",
    "\n"
   ]
  },
  {
   "cell_type": "code",
   "execution_count": 56,
   "metadata": {},
   "outputs": [],
   "source": [
    "# Size of the embedding vectors (number of units in the embedding layer)\n",
    "embed_size = 300 \n",
    "\n",
    "with graph.as_default():\n",
    "    embedding = tf.Variable(tf.random_uniform(shape = [n_words, embed_size], minval = -1, maxval = 1))# create embedding weight matrix here\n",
    "    embed = tf.nn.embedding_lookup(embedding, inputs_) # use tf.nn.embedding_lookup to get the hidden layer output"
   ]
  },
  {
   "cell_type": "markdown",
   "metadata": {},
   "source": [
    "### LSTM cell\n",
    "\n",
    "<img src=\"assets/network_diagram.png\" width=400px>\n",
    "\n",
    "Next, we'll create our LSTM cells to use in the recurrent network ([TensorFlow documentation](https://www.tensorflow.org/api_docs/python/tf/contrib/rnn)). Here we are just defining what the cells look like. This isn't actually building the graph, just defining the type of cells we want in our graph.\n",
    "\n",
    "To create a basic LSTM cell for the graph, you'll want to use `tf.contrib.rnn.BasicLSTMCell`. Looking at the function documentation:\n",
    "\n",
    "```\n",
    "tf.contrib.rnn.BasicLSTMCell(num_units, forget_bias=1.0, input_size=None, state_is_tuple=True, activation=<function tanh at 0x109f1ef28>)\n",
    "```\n",
    "\n",
    "you can see it takes a parameter called `num_units`, the number of units in the cell, called `lstm_size` in this code. So then, you can write something like \n",
    "\n",
    "```\n",
    "lstm = tf.contrib.rnn.BasicLSTMCell(num_units)\n",
    "```\n",
    "\n",
    "to create an LSTM cell with `num_units`. Next, you can add dropout to the cell with `tf.contrib.rnn.DropoutWrapper`. This just wraps the cell in another cell, but with dropout added to the inputs and/or outputs. It's a really convenient way to make your network better with almost no effort! So you'd do something like\n",
    "\n",
    "```\n",
    "drop = tf.contrib.rnn.DropoutWrapper(cell, output_keep_prob=keep_prob)\n",
    "```\n",
    "\n",
    "Most of the time, your network will have better performance with more layers. That's sort of the magic of deep learning, adding more layers allows the network to learn really complex relationships. Again, there is a simple way to create multiple layers of LSTM cells with `tf.contrib.rnn.MultiRNNCell`:\n",
    "\n",
    "```\n",
    "cell = tf.contrib.rnn.MultiRNNCell([drop] * lstm_layers)\n",
    "```\n",
    "\n",
    "Here, `[drop] * lstm_layers` creates a list of cells (`drop`) that is `lstm_layers` long. The `MultiRNNCell` wrapper builds this into multiple layers of RNN cells, one for each cell in the list.\n",
    "\n",
    "So the final cell you're using in the network is actually multiple (or just one) LSTM cells with dropout. But it all works the same from an architectural viewpoint, just a more complicated graph in the cell.\n",
    "\n",
    "> **Exercise:** Below, use `tf.contrib.rnn.BasicLSTMCell` to create an LSTM cell. Then, add drop out to it with `tf.contrib.rnn.DropoutWrapper`. Finally, create multiple LSTM layers with `tf.contrib.rnn.MultiRNNCell`.\n",
    "\n",
    "Here is [a tutorial on building RNNs](https://www.tensorflow.org/tutorials/recurrent) that will help you out.\n"
   ]
  },
  {
   "cell_type": "code",
   "execution_count": 57,
   "metadata": {},
   "outputs": [],
   "source": [
    "def build_cell(lstm_size, keep_prob):\n",
    "    # Use a basic LSTM cell\n",
    "    lstm = tf.contrib.rnn.BasicLSTMCell(lstm_size)\n",
    "    # Add dropout to the cell outputs\n",
    "    drop = tf.contrib.rnn.DropoutWrapper(lstm, output_keep_prob=keep_prob)\n",
    "\n",
    "    return drop"
   ]
  },
  {
   "cell_type": "code",
   "execution_count": 58,
   "metadata": {},
   "outputs": [],
   "source": [
    "with graph.as_default():\n",
    "\n",
    "    # Stack up multiple LSTM layers, for deep learning\n",
    "    cell = tf.contrib.rnn.MultiRNNCell([build_cell(lstm_size, keep_prob) for _ in range(lstm_layers)])\n",
    "    \n",
    "    # Getting an initial state of all zeros\n",
    "    initial_state = cell.zero_state(batch_size, tf.float32)"
   ]
  },
  {
   "cell_type": "markdown",
   "metadata": {},
   "source": [
    "### RNN forward pass\n",
    "\n",
    "<img src=\"assets/network_diagram.png\" width=400px>\n",
    "\n",
    "Now we need to actually run the data through the RNN nodes. You can use [`tf.nn.dynamic_rnn`](https://www.tensorflow.org/api_docs/python/tf/nn/dynamic_rnn) to do this. You'd pass in the RNN cell you created (our multiple layered LSTM `cell` for instance), and the inputs to the network.\n",
    "\n",
    "```\n",
    "outputs, final_state = tf.nn.dynamic_rnn(cell, inputs, initial_state=initial_state)\n",
    "```\n",
    "\n",
    "Above I created an initial state, `initial_state`, to pass to the RNN. This is the cell state that is passed between the hidden layers in successive time steps. `tf.nn.dynamic_rnn` takes care of most of the work for us. We pass in our cell and the input to the cell, then it does the unrolling and everything else for us. It returns outputs for each time step and the final_state of the hidden layer.\n",
    "\n",
    "> **Exercise:** Use `tf.nn.dynamic_rnn` to add the forward pass through the RNN. Remember that we're actually passing in vectors from the embedding layer, `embed`.\n",
    "\n"
   ]
  },
  {
   "cell_type": "code",
   "execution_count": 59,
   "metadata": {},
   "outputs": [],
   "source": [
    "with graph.as_default():\n",
    "    outputs, final_state = tf.nn.dynamic_rnn(cell, embed, initial_state=initial_state)"
   ]
  },
  {
   "cell_type": "markdown",
   "metadata": {},
   "source": [
    "### Output\n",
    "\n",
    "We only care about the final output, we'll be using that as our sentiment prediction. So we need to grab the last output with `outputs[:, -1]`, the calculate the cost from that and `labels_`."
   ]
  },
  {
   "cell_type": "code",
   "execution_count": 60,
   "metadata": {},
   "outputs": [],
   "source": [
    "with graph.as_default():\n",
    "    predictions = tf.contrib.layers.fully_connected(outputs[:, -1], 1, activation_fn=tf.sigmoid)\n",
    "    cost = tf.losses.mean_squared_error(labels_, predictions)\n",
    "    \n",
    "    optimizer = tf.train.AdamOptimizer(learning_rate).minimize(cost)"
   ]
  },
  {
   "cell_type": "markdown",
   "metadata": {},
   "source": [
    "### Validation accuracy\n",
    "\n",
    "Here we can add a few nodes to calculate the accuracy which we'll use in the validation pass."
   ]
  },
  {
   "cell_type": "code",
   "execution_count": 61,
   "metadata": {},
   "outputs": [],
   "source": [
    "with graph.as_default():\n",
    "    correct_pred = tf.equal(tf.cast(tf.round(predictions), tf.int32), labels_)\n",
    "    accuracy = tf.reduce_mean(tf.cast(correct_pred, tf.float32))"
   ]
  },
  {
   "cell_type": "markdown",
   "metadata": {},
   "source": [
    "### Batching\n",
    "\n",
    "This is a simple function for returning batches from our data. First it removes data such that we only have full batches. Then it iterates through the `x` and `y` arrays and returns slices out of those arrays with size `[batch_size]`."
   ]
  },
  {
   "cell_type": "code",
   "execution_count": 62,
   "metadata": {},
   "outputs": [],
   "source": [
    "def get_batches(x, y, batch_size=100):\n",
    "    \n",
    "    n_batches = len(x)//batch_size\n",
    "    x, y = x[:n_batches*batch_size], y[:n_batches*batch_size]\n",
    "    for ii in range(0, len(x), batch_size):\n",
    "        yield x[ii:ii+batch_size], y[ii:ii+batch_size]"
   ]
  },
  {
   "cell_type": "code",
   "execution_count": 48,
   "metadata": {},
   "outputs": [
    {
     "name": "stdout",
     "output_type": "stream",
     "text": [
      "1 (500, 200)\n",
      "2 (500, 200)\n",
      "3 (500, 200)\n",
      "4 (500, 200)\n",
      "5 (500, 200)\n",
      "6 (500, 200)\n",
      "7 (500, 200)\n",
      "8 (500, 200)\n",
      "9 (500, 200)\n",
      "10 (500, 200)\n",
      "11 (500, 200)\n",
      "12 (500, 200)\n",
      "13 (500, 200)\n",
      "14 (500, 200)\n",
      "15 (500, 200)\n",
      "16 (500, 200)\n",
      "17 (500, 200)\n",
      "18 (500, 200)\n",
      "19 (500, 200)\n",
      "20 (500, 200)\n",
      "21 (500, 200)\n",
      "22 (500, 200)\n",
      "23 (500, 200)\n",
      "24 (500, 200)\n",
      "25 (500, 200)\n",
      "26 (500, 200)\n",
      "27 (500, 200)\n",
      "28 (500, 200)\n",
      "29 (500, 200)\n",
      "30 (500, 200)\n",
      "31 (500, 200)\n",
      "32 (500, 200)\n",
      "33 (500, 200)\n",
      "34 (500, 200)\n",
      "35 (500, 200)\n",
      "36 (500, 200)\n",
      "37 (500, 200)\n",
      "38 (500, 200)\n",
      "39 (500, 200)\n",
      "40 (500, 200)\n"
     ]
    }
   ],
   "source": [
    "for ii, (x,y) in enumerate(get_batches(train_x, train_y, batch_size), 1):\n",
    "    print (ii, x.shape)"
   ]
  },
  {
   "cell_type": "code",
   "execution_count": 36,
   "metadata": {
    "scrolled": true
   },
   "outputs": [
    {
     "data": {
      "text/plain": [
       "20000"
      ]
     },
     "execution_count": 36,
     "metadata": {},
     "output_type": "execute_result"
    }
   ],
   "source": [
    "40*500"
   ]
  },
  {
   "cell_type": "markdown",
   "metadata": {},
   "source": [
    "## Training\n",
    "\n",
    "Below is the typical training code. If you want to do this yourself, feel free to delete all this code and implement it yourself. Before you run this, make sure the `checkpoints` directory exists."
   ]
  },
  {
   "cell_type": "code",
   "execution_count": 63,
   "metadata": {},
   "outputs": [
    {
     "name": "stdout",
     "output_type": "stream",
     "text": [
      "Epoch: 0/10 Iteration: 5 Train loss: 0.245\n",
      "Epoch: 0/10 Iteration: 10 Train loss: 0.240\n",
      "Epoch: 0/10 Iteration: 15 Train loss: 0.224\n",
      "Epoch: 0/10 Iteration: 20 Train loss: 0.201\n",
      "Epoch: 0/10 Iteration: 25 Train loss: 0.185\n",
      "Val acc: 0.728\n",
      "Epoch: 0/10 Iteration: 30 Train loss: 0.201\n",
      "Epoch: 0/10 Iteration: 35 Train loss: 0.195\n",
      "Epoch: 0/10 Iteration: 40 Train loss: 0.183\n",
      "Epoch: 1/10 Iteration: 45 Train loss: 0.192\n",
      "Epoch: 1/10 Iteration: 50 Train loss: 0.152\n",
      "Val acc: 0.779\n",
      "Epoch: 1/10 Iteration: 55 Train loss: 0.153\n",
      "Epoch: 1/10 Iteration: 60 Train loss: 0.160\n",
      "Epoch: 1/10 Iteration: 65 Train loss: 0.128\n",
      "Epoch: 1/10 Iteration: 70 Train loss: 0.145\n",
      "Epoch: 1/10 Iteration: 75 Train loss: 0.148\n",
      "Val acc: 0.790\n",
      "Epoch: 1/10 Iteration: 80 Train loss: 0.148\n",
      "Epoch: 2/10 Iteration: 85 Train loss: 0.142\n",
      "Epoch: 2/10 Iteration: 90 Train loss: 0.126\n",
      "Epoch: 2/10 Iteration: 95 Train loss: 0.111\n",
      "Epoch: 2/10 Iteration: 100 Train loss: 0.108\n",
      "Val acc: 0.795\n",
      "Epoch: 2/10 Iteration: 105 Train loss: 0.097\n",
      "Epoch: 2/10 Iteration: 110 Train loss: 0.122\n",
      "Epoch: 2/10 Iteration: 115 Train loss: 0.111\n",
      "Epoch: 2/10 Iteration: 120 Train loss: 0.104\n",
      "Epoch: 3/10 Iteration: 125 Train loss: 0.108\n",
      "Val acc: 0.811\n",
      "Epoch: 3/10 Iteration: 130 Train loss: 0.090\n",
      "Epoch: 3/10 Iteration: 135 Train loss: 0.101\n",
      "Epoch: 3/10 Iteration: 140 Train loss: 0.093\n",
      "Epoch: 3/10 Iteration: 145 Train loss: 0.124\n",
      "Epoch: 3/10 Iteration: 150 Train loss: 0.077\n",
      "Val acc: 0.804\n",
      "Epoch: 3/10 Iteration: 155 Train loss: 0.117\n",
      "Epoch: 3/10 Iteration: 160 Train loss: 0.169\n",
      "Epoch: 4/10 Iteration: 165 Train loss: 0.130\n",
      "Epoch: 4/10 Iteration: 170 Train loss: 0.107\n",
      "Epoch: 4/10 Iteration: 175 Train loss: 0.077\n",
      "Val acc: 0.800\n",
      "Epoch: 4/10 Iteration: 180 Train loss: 0.075\n",
      "Epoch: 4/10 Iteration: 185 Train loss: 0.083\n",
      "Epoch: 4/10 Iteration: 190 Train loss: 0.075\n",
      "Epoch: 4/10 Iteration: 195 Train loss: 0.090\n",
      "Epoch: 4/10 Iteration: 200 Train loss: 0.066\n",
      "Val acc: 0.814\n",
      "Epoch: 5/10 Iteration: 205 Train loss: 0.069\n",
      "Epoch: 5/10 Iteration: 210 Train loss: 0.064\n",
      "Epoch: 5/10 Iteration: 215 Train loss: 0.059\n",
      "Epoch: 5/10 Iteration: 220 Train loss: 0.075\n",
      "Epoch: 5/10 Iteration: 225 Train loss: 0.087\n",
      "Val acc: 0.786\n",
      "Epoch: 5/10 Iteration: 230 Train loss: 0.065\n",
      "Epoch: 5/10 Iteration: 235 Train loss: 0.332\n",
      "Epoch: 5/10 Iteration: 240 Train loss: 0.291\n",
      "Epoch: 6/10 Iteration: 245 Train loss: 0.278\n",
      "Epoch: 6/10 Iteration: 250 Train loss: 0.242\n",
      "Val acc: 0.582\n",
      "Epoch: 6/10 Iteration: 255 Train loss: 0.220\n",
      "Epoch: 6/10 Iteration: 260 Train loss: 0.193\n",
      "Epoch: 6/10 Iteration: 265 Train loss: 0.166\n",
      "Epoch: 6/10 Iteration: 270 Train loss: 0.110\n",
      "Epoch: 6/10 Iteration: 275 Train loss: 0.129\n",
      "Val acc: 0.781\n",
      "Epoch: 6/10 Iteration: 280 Train loss: 0.102\n",
      "Epoch: 7/10 Iteration: 285 Train loss: 0.115\n",
      "Epoch: 7/10 Iteration: 290 Train loss: 0.091\n",
      "Epoch: 7/10 Iteration: 295 Train loss: 0.076\n",
      "Epoch: 7/10 Iteration: 300 Train loss: 0.084\n",
      "Val acc: 0.809\n",
      "Epoch: 7/10 Iteration: 305 Train loss: 0.066\n",
      "Epoch: 7/10 Iteration: 310 Train loss: 0.049\n",
      "Epoch: 7/10 Iteration: 315 Train loss: 0.085\n",
      "Epoch: 7/10 Iteration: 320 Train loss: 0.056\n",
      "Epoch: 8/10 Iteration: 325 Train loss: 0.080\n",
      "Val acc: 0.806\n",
      "Epoch: 8/10 Iteration: 330 Train loss: 0.066\n",
      "Epoch: 8/10 Iteration: 335 Train loss: 0.055\n",
      "Epoch: 8/10 Iteration: 340 Train loss: 0.045\n",
      "Epoch: 8/10 Iteration: 345 Train loss: 0.050\n",
      "Epoch: 8/10 Iteration: 350 Train loss: 0.052\n",
      "Val acc: 0.810\n",
      "Epoch: 8/10 Iteration: 355 Train loss: 0.075\n",
      "Epoch: 8/10 Iteration: 360 Train loss: 0.079\n",
      "Epoch: 9/10 Iteration: 365 Train loss: 0.062\n",
      "Epoch: 9/10 Iteration: 370 Train loss: 0.052\n",
      "Epoch: 9/10 Iteration: 375 Train loss: 0.041\n",
      "Val acc: 0.824\n",
      "Epoch: 9/10 Iteration: 380 Train loss: 0.037\n",
      "Epoch: 9/10 Iteration: 385 Train loss: 0.032\n",
      "Epoch: 9/10 Iteration: 390 Train loss: 0.033\n",
      "Epoch: 9/10 Iteration: 395 Train loss: 0.047\n",
      "Epoch: 9/10 Iteration: 400 Train loss: 0.033\n",
      "Val acc: 0.833\n"
     ]
    }
   ],
   "source": [
    "epochs = 10\n",
    "\n",
    "with graph.as_default():\n",
    "    saver = tf.train.Saver()\n",
    "\n",
    "with tf.Session(graph=graph) as sess:\n",
    "    sess.run(tf.global_variables_initializer())\n",
    "    iteration = 1\n",
    "    for e in range(epochs):\n",
    "        state = sess.run(initial_state)\n",
    "        \n",
    "        # this is to go through all batches that is input into the nn\n",
    "        for ii, (x, y) in enumerate(get_batches(train_x, train_y, batch_size), 1): # starting_idx = 1\n",
    "            feed = {inputs_: x,\n",
    "                    labels_: y[:, None],\n",
    "                    keep_prob: 0.5,\n",
    "                    initial_state: state}\n",
    "            loss, state, _ = sess.run([cost, final_state, optimizer], feed_dict=feed)\n",
    "            \n",
    "            if iteration%5==0:\n",
    "                print(\"Epoch: {}/{}\".format(e, epochs),\n",
    "                      \"Iteration: {}\".format(iteration),\n",
    "                      \"Train loss: {:.3f}\".format(loss))\n",
    "\n",
    "            if iteration%25==0:\n",
    "                val_acc = []\n",
    "                val_state = sess.run(cell.zero_state(batch_size, tf.float32))\n",
    "                for x, y in get_batches(val_x, val_y, batch_size):\n",
    "                    feed = {inputs_: x,\n",
    "                            labels_: y[:, None],\n",
    "                            keep_prob: 1,\n",
    "                            initial_state: val_state}\n",
    "                    batch_acc, val_state = sess.run([accuracy, final_state], feed_dict=feed)\n",
    "                    val_acc.append(batch_acc)\n",
    "                print(\"Val acc: {:.3f}\".format(np.mean(val_acc)))\n",
    "            iteration +=1\n",
    "    saver.save(sess, \"checkpoints/sentiment.ckpt\")"
   ]
  },
  {
   "cell_type": "markdown",
   "metadata": {},
   "source": [
    "## Testing"
   ]
  },
  {
   "cell_type": "code",
   "execution_count": 64,
   "metadata": {},
   "outputs": [
    {
     "name": "stdout",
     "output_type": "stream",
     "text": [
      "INFO:tensorflow:Restoring parameters from checkpoints/sentiment.ckpt\n",
      "Test accuracy: 0.837\n"
     ]
    }
   ],
   "source": [
    "test_acc = []\n",
    "with tf.Session(graph=graph) as sess:\n",
    "    saver.restore(sess, tf.train.latest_checkpoint('checkpoints'))\n",
    "    test_state = sess.run(cell.zero_state(batch_size, tf.float32))\n",
    "    for ii, (x, y) in enumerate(get_batches(test_x, test_y, batch_size), 1):\n",
    "        feed = {inputs_: x,\n",
    "                labels_: y[:, None],\n",
    "                keep_prob: 1,\n",
    "                initial_state: test_state}\n",
    "        batch_acc, test_state = sess.run([accuracy, final_state], feed_dict=feed)\n",
    "        test_acc.append(batch_acc)\n",
    "    print(\"Test accuracy: {:.3f}\".format(np.mean(test_acc)))"
   ]
  },
  {
   "cell_type": "markdown",
   "metadata": {},
   "source": [
    "#### LSTM_Layer = 1: test acc = 0.815\n",
    "#### LSTM_Layer = 2: test acc = 0.823\n",
    "#### LSTM_Layer = 2 with drop: test acc = 0.833"
   ]
  }
 ],
 "metadata": {
  "kernelspec": {
   "display_name": "Python 3",
   "language": "python",
   "name": "python3"
  },
  "language_info": {
   "codemirror_mode": {
    "name": "ipython",
    "version": 3
   },
   "file_extension": ".py",
   "mimetype": "text/x-python",
   "name": "python",
   "nbconvert_exporter": "python",
   "pygments_lexer": "ipython3",
   "version": "3.5.2"
  }
 },
 "nbformat": 4,
 "nbformat_minor": 2
}
